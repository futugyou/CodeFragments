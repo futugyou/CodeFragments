{
 "cells": [
  {
   "cell_type": "code",
   "execution_count": 25,
   "metadata": {
    "dotnet_interactive": {
     "language": "csharp"
    },
    "polyglot_notebook": {
     "kernelName": "csharp"
    }
   },
   "outputs": [
    {
     "data": {
      "text/html": [
       "<div><div></div><div></div><div><strong>Installed Packages</strong><ul><li><span>Microsoft.Data.Analysis, 0.21.1</span></li><li><span>ScottPlot, 5.0.20</span></li></ul></div></div>"
      ]
     },
     "metadata": {},
     "output_type": "display_data"
    }
   ],
   "source": [
    "#r \"nuget: Microsoft.Data.Analysis\"\n",
    "#r \"nuget:ScottPlot\" \n",
    "\n",
    "// Setup a custom formatter to display plots as images\n",
    "using Microsoft.DotNet.Interactive.Formatting;\n",
    "Formatter.Register(typeof(ScottPlot.Plot), (p, w) => \n",
    "    w.Write(((ScottPlot.Plot)p).GetImageHtml(400, 300)), HtmlFormatter.MimeType);"
   ]
  },
  {
   "cell_type": "code",
   "execution_count": 26,
   "metadata": {
    "dotnet_interactive": {
     "language": "csharp"
    },
    "polyglot_notebook": {
     "kernelName": "csharp"
    }
   },
   "outputs": [
    {
     "data": {
      "text/html": [
       "<table id=\"table_638415018449525902\"><thead><tr><th><i>index</i></th><th>Survived</th><th>Pclass</th><th>Name</th><th>Sex</th><th>Age</th><th>Siblings/Spouses Aboard</th><th>Parents/Children Aboard</th><th>Fare</th></tr></thead><tbody><tr><td><i><div class=\"dni-plaintext\"><pre>0</pre></div></i></td><td><div class=\"dni-plaintext\"><pre>0</pre></div></td><td><div class=\"dni-plaintext\"><pre>3</pre></div></td><td>Mr. Owen Harris Braund</td><td>male</td><td><div class=\"dni-plaintext\"><pre>22</pre></div></td><td><div class=\"dni-plaintext\"><pre>1</pre></div></td><td><div class=\"dni-plaintext\"><pre>0</pre></div></td><td><div class=\"dni-plaintext\"><pre>7.25</pre></div></td></tr><tr><td><i><div class=\"dni-plaintext\"><pre>1</pre></div></i></td><td><div class=\"dni-plaintext\"><pre>1</pre></div></td><td><div class=\"dni-plaintext\"><pre>1</pre></div></td><td>Mrs. John Bradley (Florence Briggs Thayer) Cumings</td><td>female</td><td><div class=\"dni-plaintext\"><pre>38</pre></div></td><td><div class=\"dni-plaintext\"><pre>1</pre></div></td><td><div class=\"dni-plaintext\"><pre>0</pre></div></td><td><div class=\"dni-plaintext\"><pre>71.2833</pre></div></td></tr><tr><td><i><div class=\"dni-plaintext\"><pre>2</pre></div></i></td><td><div class=\"dni-plaintext\"><pre>1</pre></div></td><td><div class=\"dni-plaintext\"><pre>3</pre></div></td><td>Miss. Laina Heikkinen</td><td>female</td><td><div class=\"dni-plaintext\"><pre>26</pre></div></td><td><div class=\"dni-plaintext\"><pre>0</pre></div></td><td><div class=\"dni-plaintext\"><pre>0</pre></div></td><td><div class=\"dni-plaintext\"><pre>7.925</pre></div></td></tr><tr><td><i><div class=\"dni-plaintext\"><pre>3</pre></div></i></td><td><div class=\"dni-plaintext\"><pre>1</pre></div></td><td><div class=\"dni-plaintext\"><pre>1</pre></div></td><td>Mrs. Jacques Heath (Lily May Peel) Futrelle</td><td>female</td><td><div class=\"dni-plaintext\"><pre>35</pre></div></td><td><div class=\"dni-plaintext\"><pre>1</pre></div></td><td><div class=\"dni-plaintext\"><pre>0</pre></div></td><td><div class=\"dni-plaintext\"><pre>53.1</pre></div></td></tr><tr><td><i><div class=\"dni-plaintext\"><pre>4</pre></div></i></td><td><div class=\"dni-plaintext\"><pre>0</pre></div></td><td><div class=\"dni-plaintext\"><pre>3</pre></div></td><td>Mr. William Henry Allen</td><td>male</td><td><div class=\"dni-plaintext\"><pre>35</pre></div></td><td><div class=\"dni-plaintext\"><pre>0</pre></div></td><td><div class=\"dni-plaintext\"><pre>0</pre></div></td><td><div class=\"dni-plaintext\"><pre>8.05</pre></div></td></tr></tbody></table><style>\r\n",
       ".dni-code-hint {\r\n",
       "    font-style: italic;\r\n",
       "    overflow: hidden;\r\n",
       "    white-space: nowrap;\r\n",
       "}\r\n",
       ".dni-treeview {\r\n",
       "    white-space: nowrap;\r\n",
       "}\r\n",
       ".dni-treeview td {\r\n",
       "    vertical-align: top;\r\n",
       "    text-align: start;\r\n",
       "}\r\n",
       "details.dni-treeview {\r\n",
       "    padding-left: 1em;\r\n",
       "}\r\n",
       "table td {\r\n",
       "    text-align: start;\r\n",
       "}\r\n",
       "table tr { \r\n",
       "    vertical-align: top; \r\n",
       "    margin: 0em 0px;\r\n",
       "}\r\n",
       "table tr td pre \r\n",
       "{ \r\n",
       "    vertical-align: top !important; \r\n",
       "    margin: 0em 0px !important;\r\n",
       "} \r\n",
       "table th {\r\n",
       "    text-align: start;\r\n",
       "}\r\n",
       "</style>"
      ]
     },
     "metadata": {},
     "output_type": "display_data"
    }
   ],
   "source": [
    "using Microsoft.Data.Analysis;\n",
    "var df = DataFrame.LoadCsv(\"file/titanic.csv\");\n",
    "\n",
    "df.Head(5)"
   ]
  },
  {
   "cell_type": "code",
   "execution_count": 27,
   "metadata": {
    "dotnet_interactive": {
     "language": "csharp"
    },
    "polyglot_notebook": {
     "kernelName": "csharp"
    }
   },
   "outputs": [
    {
     "data": {
      "text/html": [
       "<table id=\"table_638415018455480795\"><thead><tr><th><i>index</i></th><th>Info</th><th>Survived</th><th>Pclass</th><th>Name</th><th>Sex</th><th>Age</th><th>Siblings/Spouses Aboard</th><th>Parents/Children Aboard</th><th>Fare</th></tr></thead><tbody><tr><td><i><div class=\"dni-plaintext\"><pre>0</pre></div></i></td><td>DataType</td><td>System.Single</td><td>System.Single</td><td>System.String</td><td>System.String</td><td>System.Single</td><td>System.Single</td><td>System.Single</td><td>System.Single</td></tr><tr><td><i><div class=\"dni-plaintext\"><pre>1</pre></div></i></td><td>Length (excluding null values)</td><td>887</td><td>887</td><td>887</td><td>887</td><td>887</td><td>887</td><td>887</td><td>887</td></tr></tbody></table><style>\r\n",
       ".dni-code-hint {\r\n",
       "    font-style: italic;\r\n",
       "    overflow: hidden;\r\n",
       "    white-space: nowrap;\r\n",
       "}\r\n",
       ".dni-treeview {\r\n",
       "    white-space: nowrap;\r\n",
       "}\r\n",
       ".dni-treeview td {\r\n",
       "    vertical-align: top;\r\n",
       "    text-align: start;\r\n",
       "}\r\n",
       "details.dni-treeview {\r\n",
       "    padding-left: 1em;\r\n",
       "}\r\n",
       "table td {\r\n",
       "    text-align: start;\r\n",
       "}\r\n",
       "table tr { \r\n",
       "    vertical-align: top; \r\n",
       "    margin: 0em 0px;\r\n",
       "}\r\n",
       "table tr td pre \r\n",
       "{ \r\n",
       "    vertical-align: top !important; \r\n",
       "    margin: 0em 0px !important;\r\n",
       "} \r\n",
       "table th {\r\n",
       "    text-align: start;\r\n",
       "}\r\n",
       "</style>"
      ]
     },
     "metadata": {},
     "output_type": "display_data"
    }
   ],
   "source": [
    "df.Info()"
   ]
  },
  {
   "cell_type": "code",
   "execution_count": 28,
   "metadata": {
    "dotnet_interactive": {
     "language": "csharp"
    },
    "polyglot_notebook": {
     "kernelName": "csharp"
    }
   },
   "outputs": [
    {
     "data": {
      "text/html": [
       "<table id=\"table_638415018462453343\"><thead><tr><th><i>index</i></th><th>Description</th><th>Survived</th><th>Pclass</th><th>Age</th><th>Siblings/Spouses Aboard</th><th>Parents/Children Aboard</th><th>Fare</th></tr></thead><tbody><tr><td><i><div class=\"dni-plaintext\"><pre>0</pre></div></i></td><td>Length (excluding null values)</td><td><div class=\"dni-plaintext\"><pre>887</pre></div></td><td><div class=\"dni-plaintext\"><pre>887</pre></div></td><td><div class=\"dni-plaintext\"><pre>887</pre></div></td><td><div class=\"dni-plaintext\"><pre>887</pre></div></td><td><div class=\"dni-plaintext\"><pre>887</pre></div></td><td><div class=\"dni-plaintext\"><pre>887</pre></div></td></tr><tr><td><i><div class=\"dni-plaintext\"><pre>1</pre></div></i></td><td>Max</td><td><div class=\"dni-plaintext\"><pre>1</pre></div></td><td><div class=\"dni-plaintext\"><pre>3</pre></div></td><td><div class=\"dni-plaintext\"><pre>80</pre></div></td><td><div class=\"dni-plaintext\"><pre>8</pre></div></td><td><div class=\"dni-plaintext\"><pre>6</pre></div></td><td><div class=\"dni-plaintext\"><pre>512.3292</pre></div></td></tr><tr><td><i><div class=\"dni-plaintext\"><pre>2</pre></div></i></td><td>Min</td><td><div class=\"dni-plaintext\"><pre>0</pre></div></td><td><div class=\"dni-plaintext\"><pre>1</pre></div></td><td><div class=\"dni-plaintext\"><pre>0.42</pre></div></td><td><div class=\"dni-plaintext\"><pre>0</pre></div></td><td><div class=\"dni-plaintext\"><pre>0</pre></div></td><td><div class=\"dni-plaintext\"><pre>0</pre></div></td></tr><tr><td><i><div class=\"dni-plaintext\"><pre>3</pre></div></i></td><td>Mean</td><td><div class=\"dni-plaintext\"><pre>0.38556933</pre></div></td><td><div class=\"dni-plaintext\"><pre>2.3055243</pre></div></td><td><div class=\"dni-plaintext\"><pre>29.471443</pre></div></td><td><div class=\"dni-plaintext\"><pre>0.5253664</pre></div></td><td><div class=\"dni-plaintext\"><pre>0.38331455</pre></div></td><td><div class=\"dni-plaintext\"><pre>32.305454</pre></div></td></tr></tbody></table><style>\r\n",
       ".dni-code-hint {\r\n",
       "    font-style: italic;\r\n",
       "    overflow: hidden;\r\n",
       "    white-space: nowrap;\r\n",
       "}\r\n",
       ".dni-treeview {\r\n",
       "    white-space: nowrap;\r\n",
       "}\r\n",
       ".dni-treeview td {\r\n",
       "    vertical-align: top;\r\n",
       "    text-align: start;\r\n",
       "}\r\n",
       "details.dni-treeview {\r\n",
       "    padding-left: 1em;\r\n",
       "}\r\n",
       "table td {\r\n",
       "    text-align: start;\r\n",
       "}\r\n",
       "table tr { \r\n",
       "    vertical-align: top; \r\n",
       "    margin: 0em 0px;\r\n",
       "}\r\n",
       "table tr td pre \r\n",
       "{ \r\n",
       "    vertical-align: top !important; \r\n",
       "    margin: 0em 0px !important;\r\n",
       "} \r\n",
       "table th {\r\n",
       "    text-align: start;\r\n",
       "}\r\n",
       "</style>"
      ]
     },
     "metadata": {},
     "output_type": "display_data"
    }
   ],
   "source": [
    "df.Description()"
   ]
  },
  {
   "cell_type": "code",
   "execution_count": 29,
   "metadata": {
    "dotnet_interactive": {
     "language": "csharp"
    },
    "polyglot_notebook": {
     "kernelName": "csharp"
    }
   },
   "outputs": [
    {
     "ename": "Error",
     "evalue": "System.TypeInitializationException: The type initializer for 'ScottPlot.Fonts' threw an exception.\n ---> System.TypeInitializationException: The type initializer for 'SkiaSharp.SKTypeface' threw an exception.\n ---> System.DllNotFoundException: Unable to load shared library 'libSkiaSharp' or one of its dependencies. In order to help diagnose loading problems, consider using a tool like strace. If you're using glibc, consider setting the LD_DEBUG environment variable: \n/home/codespace/.nuget/packages/microsoft.dotnet-interactive/1.0.506903/tools/net8.0/any/runtimes/linux-x64/native/libSkiaSharp.so: cannot open shared object file: No such file or directory\n/usr/local/dotnet/7.0.306/shared/Microsoft.NETCore.App/8.0.0/libSkiaSharp.so: cannot open shared object file: No such file or directory\n/home/codespace/.nuget/packages/skiasharp/2.88.7/lib/net6.0/libSkiaSharp.so: cannot open shared object file: No such file or directory\n/home/codespace/.nuget/packages/microsoft.dotnet-interactive/1.0.506903/tools/net8.0/any/runtimes/linux-x64/native/liblibSkiaSharp.so: cannot open shared object file: No such file or directory\n/usr/local/dotnet/7.0.306/shared/Microsoft.NETCore.App/8.0.0/liblibSkiaSharp.so: cannot open shared object file: No such file or directory\n/home/codespace/.nuget/packages/skiasharp/2.88.7/lib/net6.0/liblibSkiaSharp.so: cannot open shared object file: No such file or directory\n/home/codespace/.nuget/packages/microsoft.dotnet-interactive/1.0.506903/tools/net8.0/any/runtimes/linux-x64/native/libSkiaSharp: cannot open shared object file: No such file or directory\n/usr/local/dotnet/7.0.306/shared/Microsoft.NETCore.App/8.0.0/libSkiaSharp: cannot open shared object file: No such file or directory\n/home/codespace/.nuget/packages/skiasharp/2.88.7/lib/net6.0/libSkiaSharp: cannot open shared object file: No such file or directory\n/home/codespace/.nuget/packages/microsoft.dotnet-interactive/1.0.506903/tools/net8.0/any/runtimes/linux-x64/native/liblibSkiaSharp: cannot open shared object file: No such file or directory\n/usr/local/dotnet/7.0.306/shared/Microsoft.NETCore.App/8.0.0/liblibSkiaSharp: cannot open shared object file: No such file or directory\n/home/codespace/.nuget/packages/skiasharp/2.88.7/lib/net6.0/liblibSkiaSharp: cannot open shared object file: No such file or directory\n\n   at SkiaSharp.SkiaApi.sk_typeface_ref_default()\n   at SkiaSharp.SKTypeface..cctor() in D:\\a\\1\\s\\binding\\Binding\\SKTypeface.cs:line 26\n   --- End of inner exception stack trace ---\n   at SkiaSharp.SKTypeface.get_Default() in D:\\a\\1\\s\\binding\\Binding\\SKTypeface.cs:line 45\n   at ScottPlot.Fonts.InstalledSansFont() in /_/src/ScottPlot5/ScottPlot5/Fonts.cs:line 52\n   at ScottPlot.Fonts..cctor() in /_/src/ScottPlot5/ScottPlot5/Fonts.cs:line 11\n   --- End of inner exception stack trace ---\n   at ScottPlot.Fonts.get_Default() in /_/src/ScottPlot5/ScottPlot5/Fonts.cs:line 11\n   at ScottPlot.Label..ctor() in /_/src/ScottPlot5/ScottPlot5/Primitives/Label.cs:line 31\n   at ScottPlot.Panels.TitlePanel..ctor() in /_/src/ScottPlot5/ScottPlot5/Panels/TitlePanel.cs:line 18\n   at ScottPlot.AxisManager..ctor(Plot plot) in /_/src/ScottPlot5/ScottPlot5/AxisManager.cs:line 32\n   at ScottPlot.Plot..ctor() in /_/src/ScottPlot5/ScottPlot5/Plot.cs:line 31\n   at Submission#28.<<Initialize>>d__0.MoveNext()\n--- End of stack trace from previous location ---\n   at Microsoft.CodeAnalysis.Scripting.ScriptExecutionState.RunSubmissionsAsync[TResult](ImmutableArray`1 precedingExecutors, Func`2 currentExecutor, StrongBox`1 exceptionHolderOpt, Func`2 catchExceptionOpt, CancellationToken cancellationToken)",
     "output_type": "error",
     "traceback": [
      "System.TypeInitializationException: The type initializer for 'ScottPlot.Fonts' threw an exception.\n",
      " ---> System.TypeInitializationException: The type initializer for 'SkiaSharp.SKTypeface' threw an exception.\n",
      " ---> System.DllNotFoundException: Unable to load shared library 'libSkiaSharp' or one of its dependencies. In order to help diagnose loading problems, consider using a tool like strace. If you're using glibc, consider setting the LD_DEBUG environment variable: \n",
      "/home/codespace/.nuget/packages/microsoft.dotnet-interactive/1.0.506903/tools/net8.0/any/runtimes/linux-x64/native/libSkiaSharp.so: cannot open shared object file: No such file or directory\n",
      "/usr/local/dotnet/7.0.306/shared/Microsoft.NETCore.App/8.0.0/libSkiaSharp.so: cannot open shared object file: No such file or directory\n",
      "/home/codespace/.nuget/packages/skiasharp/2.88.7/lib/net6.0/libSkiaSharp.so: cannot open shared object file: No such file or directory\n",
      "/home/codespace/.nuget/packages/microsoft.dotnet-interactive/1.0.506903/tools/net8.0/any/runtimes/linux-x64/native/liblibSkiaSharp.so: cannot open shared object file: No such file or directory\n",
      "/usr/local/dotnet/7.0.306/shared/Microsoft.NETCore.App/8.0.0/liblibSkiaSharp.so: cannot open shared object file: No such file or directory\n",
      "/home/codespace/.nuget/packages/skiasharp/2.88.7/lib/net6.0/liblibSkiaSharp.so: cannot open shared object file: No such file or directory\n",
      "/home/codespace/.nuget/packages/microsoft.dotnet-interactive/1.0.506903/tools/net8.0/any/runtimes/linux-x64/native/libSkiaSharp: cannot open shared object file: No such file or directory\n",
      "/usr/local/dotnet/7.0.306/shared/Microsoft.NETCore.App/8.0.0/libSkiaSharp: cannot open shared object file: No such file or directory\n",
      "/home/codespace/.nuget/packages/skiasharp/2.88.7/lib/net6.0/libSkiaSharp: cannot open shared object file: No such file or directory\n",
      "/home/codespace/.nuget/packages/microsoft.dotnet-interactive/1.0.506903/tools/net8.0/any/runtimes/linux-x64/native/liblibSkiaSharp: cannot open shared object file: No such file or directory\n",
      "/usr/local/dotnet/7.0.306/shared/Microsoft.NETCore.App/8.0.0/liblibSkiaSharp: cannot open shared object file: No such file or directory\n",
      "/home/codespace/.nuget/packages/skiasharp/2.88.7/lib/net6.0/liblibSkiaSharp: cannot open shared object file: No such file or directory\n",
      "\n",
      "   at SkiaSharp.SkiaApi.sk_typeface_ref_default()\n",
      "   at SkiaSharp.SKTypeface..cctor() in D:\\a\\1\\s\\binding\\Binding\\SKTypeface.cs:line 26\n",
      "   --- End of inner exception stack trace ---\n",
      "   at SkiaSharp.SKTypeface.get_Default() in D:\\a\\1\\s\\binding\\Binding\\SKTypeface.cs:line 45\n",
      "   at ScottPlot.Fonts.InstalledSansFont() in /_/src/ScottPlot5/ScottPlot5/Fonts.cs:line 52\n",
      "   at ScottPlot.Fonts..cctor() in /_/src/ScottPlot5/ScottPlot5/Fonts.cs:line 11\n",
      "   --- End of inner exception stack trace ---\n",
      "   at ScottPlot.Fonts.get_Default() in /_/src/ScottPlot5/ScottPlot5/Fonts.cs:line 11\n",
      "   at ScottPlot.Label..ctor() in /_/src/ScottPlot5/ScottPlot5/Primitives/Label.cs:line 31\n",
      "   at ScottPlot.Panels.TitlePanel..ctor() in /_/src/ScottPlot5/ScottPlot5/Panels/TitlePanel.cs:line 18\n",
      "   at ScottPlot.AxisManager..ctor(Plot plot) in /_/src/ScottPlot5/ScottPlot5/AxisManager.cs:line 32\n",
      "   at ScottPlot.Plot..ctor() in /_/src/ScottPlot5/ScottPlot5/Plot.cs:line 31\n",
      "   at Submission#28.<<Initialize>>d__0.MoveNext()\n",
      "--- End of stack trace from previous location ---\n",
      "   at Microsoft.CodeAnalysis.Scripting.ScriptExecutionState.RunSubmissionsAsync[TResult](ImmutableArray`1 precedingExecutors, Func`2 currentExecutor, StrongBox`1 exceptionHolderOpt, Func`2 catchExceptionOpt, CancellationToken cancellationToken)"
     ]
    }
   ],
   "source": [
    "var valueCounts = df[\"Survived\"].ValueCounts();\n",
    "var values = Enumerable.Range(0,(int)valueCounts.Rows.Count).Select(x=>Convert.ToDouble(valueCounts[\"Values\"][x])).ToArray();\n",
    "var counts = Enumerable.Range(0,(int)valueCounts.Rows.Count).Select(x=>Convert.ToDouble(valueCounts[\"Counts\"][x])).ToArray();\n",
    "\n",
    "ScottPlot.Plot plt = new();\n",
    "plt.Add.Scatter(counts,values);\n",
    "plt.XLabel(\"Age\");\n",
    "plt.YLabel(\"Frae\");\n",
    "plt"
   ]
  },
  {
   "cell_type": "code",
   "execution_count": 30,
   "metadata": {
    "dotnet_interactive": {
     "language": "csharp"
    },
    "polyglot_notebook": {
     "kernelName": "csharp"
    }
   },
   "outputs": [
    {
     "ename": "Error",
     "evalue": "System.TypeInitializationException: The type initializer for 'ScottPlot.Fonts' threw an exception.\n ---> System.TypeInitializationException: The type initializer for 'SkiaSharp.SKTypeface' threw an exception.\n ---> System.DllNotFoundException: Unable to load shared library 'libSkiaSharp' or one of its dependencies. In order to help diagnose loading problems, consider using a tool like strace. If you're using glibc, consider setting the LD_DEBUG environment variable: \n/home/codespace/.nuget/packages/microsoft.dotnet-interactive/1.0.506903/tools/net8.0/any/runtimes/linux-x64/native/libSkiaSharp.so: cannot open shared object file: No such file or directory\n/usr/local/dotnet/7.0.306/shared/Microsoft.NETCore.App/8.0.0/libSkiaSharp.so: cannot open shared object file: No such file or directory\n/home/codespace/.nuget/packages/skiasharp/2.88.7/lib/net6.0/libSkiaSharp.so: cannot open shared object file: No such file or directory\n/home/codespace/.nuget/packages/microsoft.dotnet-interactive/1.0.506903/tools/net8.0/any/runtimes/linux-x64/native/liblibSkiaSharp.so: cannot open shared object file: No such file or directory\n/usr/local/dotnet/7.0.306/shared/Microsoft.NETCore.App/8.0.0/liblibSkiaSharp.so: cannot open shared object file: No such file or directory\n/home/codespace/.nuget/packages/skiasharp/2.88.7/lib/net6.0/liblibSkiaSharp.so: cannot open shared object file: No such file or directory\n/home/codespace/.nuget/packages/microsoft.dotnet-interactive/1.0.506903/tools/net8.0/any/runtimes/linux-x64/native/libSkiaSharp: cannot open shared object file: No such file or directory\n/usr/local/dotnet/7.0.306/shared/Microsoft.NETCore.App/8.0.0/libSkiaSharp: cannot open shared object file: No such file or directory\n/home/codespace/.nuget/packages/skiasharp/2.88.7/lib/net6.0/libSkiaSharp: cannot open shared object file: No such file or directory\n/home/codespace/.nuget/packages/microsoft.dotnet-interactive/1.0.506903/tools/net8.0/any/runtimes/linux-x64/native/liblibSkiaSharp: cannot open shared object file: No such file or directory\n/usr/local/dotnet/7.0.306/shared/Microsoft.NETCore.App/8.0.0/liblibSkiaSharp: cannot open shared object file: No such file or directory\n/home/codespace/.nuget/packages/skiasharp/2.88.7/lib/net6.0/liblibSkiaSharp: cannot open shared object file: No such file or directory\n\n   at SkiaSharp.SkiaApi.sk_typeface_ref_default()\n   at SkiaSharp.SKTypeface..cctor() in D:\\a\\1\\s\\binding\\Binding\\SKTypeface.cs:line 26\n   --- End of inner exception stack trace ---\n   at SkiaSharp.SKTypeface.get_Default() in D:\\a\\1\\s\\binding\\Binding\\SKTypeface.cs:line 45\n   at ScottPlot.Fonts.InstalledSansFont() in /_/src/ScottPlot5/ScottPlot5/Fonts.cs:line 52\n   at ScottPlot.Fonts..cctor() in /_/src/ScottPlot5/ScottPlot5/Fonts.cs:line 11\n   --- End of inner exception stack trace ---\n   at ScottPlot.Fonts.get_Default() in /_/src/ScottPlot5/ScottPlot5/Fonts.cs:line 11\n   at ScottPlot.Label..ctor() in /_/src/ScottPlot5/ScottPlot5/Primitives/Label.cs:line 31\n   at ScottPlot.Panels.TitlePanel..ctor() in /_/src/ScottPlot5/ScottPlot5/Panels/TitlePanel.cs:line 18\n   at ScottPlot.AxisManager..ctor(Plot plot) in /_/src/ScottPlot5/ScottPlot5/AxisManager.cs:line 32\n   at ScottPlot.Plot..ctor() in /_/src/ScottPlot5/ScottPlot5/Plot.cs:line 31\n   at Submission#29.<<Initialize>>d__0.MoveNext()\n--- End of stack trace from previous location ---\n   at Microsoft.CodeAnalysis.Scripting.ScriptExecutionState.RunSubmissionsAsync[TResult](ImmutableArray`1 precedingExecutors, Func`2 currentExecutor, StrongBox`1 exceptionHolderOpt, Func`2 catchExceptionOpt, CancellationToken cancellationToken)",
     "output_type": "error",
     "traceback": [
      "System.TypeInitializationException: The type initializer for 'ScottPlot.Fonts' threw an exception.\n",
      " ---> System.TypeInitializationException: The type initializer for 'SkiaSharp.SKTypeface' threw an exception.\n",
      " ---> System.DllNotFoundException: Unable to load shared library 'libSkiaSharp' or one of its dependencies. In order to help diagnose loading problems, consider using a tool like strace. If you're using glibc, consider setting the LD_DEBUG environment variable: \n",
      "/home/codespace/.nuget/packages/microsoft.dotnet-interactive/1.0.506903/tools/net8.0/any/runtimes/linux-x64/native/libSkiaSharp.so: cannot open shared object file: No such file or directory\n",
      "/usr/local/dotnet/7.0.306/shared/Microsoft.NETCore.App/8.0.0/libSkiaSharp.so: cannot open shared object file: No such file or directory\n",
      "/home/codespace/.nuget/packages/skiasharp/2.88.7/lib/net6.0/libSkiaSharp.so: cannot open shared object file: No such file or directory\n",
      "/home/codespace/.nuget/packages/microsoft.dotnet-interactive/1.0.506903/tools/net8.0/any/runtimes/linux-x64/native/liblibSkiaSharp.so: cannot open shared object file: No such file or directory\n",
      "/usr/local/dotnet/7.0.306/shared/Microsoft.NETCore.App/8.0.0/liblibSkiaSharp.so: cannot open shared object file: No such file or directory\n",
      "/home/codespace/.nuget/packages/skiasharp/2.88.7/lib/net6.0/liblibSkiaSharp.so: cannot open shared object file: No such file or directory\n",
      "/home/codespace/.nuget/packages/microsoft.dotnet-interactive/1.0.506903/tools/net8.0/any/runtimes/linux-x64/native/libSkiaSharp: cannot open shared object file: No such file or directory\n",
      "/usr/local/dotnet/7.0.306/shared/Microsoft.NETCore.App/8.0.0/libSkiaSharp: cannot open shared object file: No such file or directory\n",
      "/home/codespace/.nuget/packages/skiasharp/2.88.7/lib/net6.0/libSkiaSharp: cannot open shared object file: No such file or directory\n",
      "/home/codespace/.nuget/packages/microsoft.dotnet-interactive/1.0.506903/tools/net8.0/any/runtimes/linux-x64/native/liblibSkiaSharp: cannot open shared object file: No such file or directory\n",
      "/usr/local/dotnet/7.0.306/shared/Microsoft.NETCore.App/8.0.0/liblibSkiaSharp: cannot open shared object file: No such file or directory\n",
      "/home/codespace/.nuget/packages/skiasharp/2.88.7/lib/net6.0/liblibSkiaSharp: cannot open shared object file: No such file or directory\n",
      "\n",
      "   at SkiaSharp.SkiaApi.sk_typeface_ref_default()\n",
      "   at SkiaSharp.SKTypeface..cctor() in D:\\a\\1\\s\\binding\\Binding\\SKTypeface.cs:line 26\n",
      "   --- End of inner exception stack trace ---\n",
      "   at SkiaSharp.SKTypeface.get_Default() in D:\\a\\1\\s\\binding\\Binding\\SKTypeface.cs:line 45\n",
      "   at ScottPlot.Fonts.InstalledSansFont() in /_/src/ScottPlot5/ScottPlot5/Fonts.cs:line 52\n",
      "   at ScottPlot.Fonts..cctor() in /_/src/ScottPlot5/ScottPlot5/Fonts.cs:line 11\n",
      "   --- End of inner exception stack trace ---\n",
      "   at ScottPlot.Fonts.get_Default() in /_/src/ScottPlot5/ScottPlot5/Fonts.cs:line 11\n",
      "   at ScottPlot.Label..ctor() in /_/src/ScottPlot5/ScottPlot5/Primitives/Label.cs:line 31\n",
      "   at ScottPlot.Panels.TitlePanel..ctor() in /_/src/ScottPlot5/ScottPlot5/Panels/TitlePanel.cs:line 18\n",
      "   at ScottPlot.AxisManager..ctor(Plot plot) in /_/src/ScottPlot5/ScottPlot5/AxisManager.cs:line 32\n",
      "   at ScottPlot.Plot..ctor() in /_/src/ScottPlot5/ScottPlot5/Plot.cs:line 31\n",
      "   at Submission#29.<<Initialize>>d__0.MoveNext()\n",
      "--- End of stack trace from previous location ---\n",
      "   at Microsoft.CodeAnalysis.Scripting.ScriptExecutionState.RunSubmissionsAsync[TResult](ImmutableArray`1 precedingExecutors, Func`2 currentExecutor, StrongBox`1 exceptionHolderOpt, Func`2 catchExceptionOpt, CancellationToken cancellationToken)"
     ]
    }
   ],
   "source": [
    "// create sample data\n",
    "double[] dataX = new double[] { 1, 2, 3, 4, 5 };\n",
    "double[] dataY = new double[] { 1, 4, 9, 16, 25 };\n",
    "\n",
    "// plot the data\n",
    "ScottPlot.Plot plt = new();\n",
    "plt.Add.Scatter(dataX, dataY);\n",
    "\n",
    "// display the plot\n",
    "plt"
   ]
  },
  {
   "cell_type": "code",
   "execution_count": 31,
   "metadata": {
    "dotnet_interactive": {
     "language": "csharp"
    },
    "polyglot_notebook": {
     "kernelName": "csharp"
    }
   },
   "outputs": [
    {
     "ename": "Error",
     "evalue": "System.TypeInitializationException: The type initializer for 'ScottPlot.Fonts' threw an exception.\n ---> System.TypeInitializationException: The type initializer for 'SkiaSharp.SKTypeface' threw an exception.\n ---> System.DllNotFoundException: Unable to load shared library 'libSkiaSharp' or one of its dependencies. In order to help diagnose loading problems, consider using a tool like strace. If you're using glibc, consider setting the LD_DEBUG environment variable: \n/home/codespace/.nuget/packages/microsoft.dotnet-interactive/1.0.506903/tools/net8.0/any/runtimes/linux-x64/native/libSkiaSharp.so: cannot open shared object file: No such file or directory\n/usr/local/dotnet/7.0.306/shared/Microsoft.NETCore.App/8.0.0/libSkiaSharp.so: cannot open shared object file: No such file or directory\n/home/codespace/.nuget/packages/skiasharp/2.88.7/lib/net6.0/libSkiaSharp.so: cannot open shared object file: No such file or directory\n/home/codespace/.nuget/packages/microsoft.dotnet-interactive/1.0.506903/tools/net8.0/any/runtimes/linux-x64/native/liblibSkiaSharp.so: cannot open shared object file: No such file or directory\n/usr/local/dotnet/7.0.306/shared/Microsoft.NETCore.App/8.0.0/liblibSkiaSharp.so: cannot open shared object file: No such file or directory\n/home/codespace/.nuget/packages/skiasharp/2.88.7/lib/net6.0/liblibSkiaSharp.so: cannot open shared object file: No such file or directory\n/home/codespace/.nuget/packages/microsoft.dotnet-interactive/1.0.506903/tools/net8.0/any/runtimes/linux-x64/native/libSkiaSharp: cannot open shared object file: No such file or directory\n/usr/local/dotnet/7.0.306/shared/Microsoft.NETCore.App/8.0.0/libSkiaSharp: cannot open shared object file: No such file or directory\n/home/codespace/.nuget/packages/skiasharp/2.88.7/lib/net6.0/libSkiaSharp: cannot open shared object file: No such file or directory\n/home/codespace/.nuget/packages/microsoft.dotnet-interactive/1.0.506903/tools/net8.0/any/runtimes/linux-x64/native/liblibSkiaSharp: cannot open shared object file: No such file or directory\n/usr/local/dotnet/7.0.306/shared/Microsoft.NETCore.App/8.0.0/liblibSkiaSharp: cannot open shared object file: No such file or directory\n/home/codespace/.nuget/packages/skiasharp/2.88.7/lib/net6.0/liblibSkiaSharp: cannot open shared object file: No such file or directory\n\n   at SkiaSharp.SkiaApi.sk_typeface_ref_default()\n   at SkiaSharp.SKTypeface..cctor() in D:\\a\\1\\s\\binding\\Binding\\SKTypeface.cs:line 26\n   --- End of inner exception stack trace ---\n   at SkiaSharp.SKTypeface.get_Default() in D:\\a\\1\\s\\binding\\Binding\\SKTypeface.cs:line 45\n   at ScottPlot.Fonts.InstalledSansFont() in /_/src/ScottPlot5/ScottPlot5/Fonts.cs:line 52\n   at ScottPlot.Fonts..cctor() in /_/src/ScottPlot5/ScottPlot5/Fonts.cs:line 11\n   --- End of inner exception stack trace ---\n   at ScottPlot.Fonts.get_Default() in /_/src/ScottPlot5/ScottPlot5/Fonts.cs:line 11\n   at ScottPlot.Label..ctor() in /_/src/ScottPlot5/ScottPlot5/Primitives/Label.cs:line 31\n   at ScottPlot.Panels.TitlePanel..ctor() in /_/src/ScottPlot5/ScottPlot5/Panels/TitlePanel.cs:line 18\n   at ScottPlot.AxisManager..ctor(Plot plot) in /_/src/ScottPlot5/ScottPlot5/AxisManager.cs:line 32\n   at ScottPlot.Plot..ctor() in /_/src/ScottPlot5/ScottPlot5/Plot.cs:line 31\n   at Submission#30.<<Initialize>>d__0.MoveNext()\n--- End of stack trace from previous location ---\n   at Microsoft.CodeAnalysis.Scripting.ScriptExecutionState.RunSubmissionsAsync[TResult](ImmutableArray`1 precedingExecutors, Func`2 currentExecutor, StrongBox`1 exceptionHolderOpt, Func`2 catchExceptionOpt, CancellationToken cancellationToken)",
     "output_type": "error",
     "traceback": [
      "System.TypeInitializationException: The type initializer for 'ScottPlot.Fonts' threw an exception.\n",
      " ---> System.TypeInitializationException: The type initializer for 'SkiaSharp.SKTypeface' threw an exception.\n",
      " ---> System.DllNotFoundException: Unable to load shared library 'libSkiaSharp' or one of its dependencies. In order to help diagnose loading problems, consider using a tool like strace. If you're using glibc, consider setting the LD_DEBUG environment variable: \n",
      "/home/codespace/.nuget/packages/microsoft.dotnet-interactive/1.0.506903/tools/net8.0/any/runtimes/linux-x64/native/libSkiaSharp.so: cannot open shared object file: No such file or directory\n",
      "/usr/local/dotnet/7.0.306/shared/Microsoft.NETCore.App/8.0.0/libSkiaSharp.so: cannot open shared object file: No such file or directory\n",
      "/home/codespace/.nuget/packages/skiasharp/2.88.7/lib/net6.0/libSkiaSharp.so: cannot open shared object file: No such file or directory\n",
      "/home/codespace/.nuget/packages/microsoft.dotnet-interactive/1.0.506903/tools/net8.0/any/runtimes/linux-x64/native/liblibSkiaSharp.so: cannot open shared object file: No such file or directory\n",
      "/usr/local/dotnet/7.0.306/shared/Microsoft.NETCore.App/8.0.0/liblibSkiaSharp.so: cannot open shared object file: No such file or directory\n",
      "/home/codespace/.nuget/packages/skiasharp/2.88.7/lib/net6.0/liblibSkiaSharp.so: cannot open shared object file: No such file or directory\n",
      "/home/codespace/.nuget/packages/microsoft.dotnet-interactive/1.0.506903/tools/net8.0/any/runtimes/linux-x64/native/libSkiaSharp: cannot open shared object file: No such file or directory\n",
      "/usr/local/dotnet/7.0.306/shared/Microsoft.NETCore.App/8.0.0/libSkiaSharp: cannot open shared object file: No such file or directory\n",
      "/home/codespace/.nuget/packages/skiasharp/2.88.7/lib/net6.0/libSkiaSharp: cannot open shared object file: No such file or directory\n",
      "/home/codespace/.nuget/packages/microsoft.dotnet-interactive/1.0.506903/tools/net8.0/any/runtimes/linux-x64/native/liblibSkiaSharp: cannot open shared object file: No such file or directory\n",
      "/usr/local/dotnet/7.0.306/shared/Microsoft.NETCore.App/8.0.0/liblibSkiaSharp: cannot open shared object file: No such file or directory\n",
      "/home/codespace/.nuget/packages/skiasharp/2.88.7/lib/net6.0/liblibSkiaSharp: cannot open shared object file: No such file or directory\n",
      "\n",
      "   at SkiaSharp.SkiaApi.sk_typeface_ref_default()\n",
      "   at SkiaSharp.SKTypeface..cctor() in D:\\a\\1\\s\\binding\\Binding\\SKTypeface.cs:line 26\n",
      "   --- End of inner exception stack trace ---\n",
      "   at SkiaSharp.SKTypeface.get_Default() in D:\\a\\1\\s\\binding\\Binding\\SKTypeface.cs:line 45\n",
      "   at ScottPlot.Fonts.InstalledSansFont() in /_/src/ScottPlot5/ScottPlot5/Fonts.cs:line 52\n",
      "   at ScottPlot.Fonts..cctor() in /_/src/ScottPlot5/ScottPlot5/Fonts.cs:line 11\n",
      "   --- End of inner exception stack trace ---\n",
      "   at ScottPlot.Fonts.get_Default() in /_/src/ScottPlot5/ScottPlot5/Fonts.cs:line 11\n",
      "   at ScottPlot.Label..ctor() in /_/src/ScottPlot5/ScottPlot5/Primitives/Label.cs:line 31\n",
      "   at ScottPlot.Panels.TitlePanel..ctor() in /_/src/ScottPlot5/ScottPlot5/Panels/TitlePanel.cs:line 18\n",
      "   at ScottPlot.AxisManager..ctor(Plot plot) in /_/src/ScottPlot5/ScottPlot5/AxisManager.cs:line 32\n",
      "   at ScottPlot.Plot..ctor() in /_/src/ScottPlot5/ScottPlot5/Plot.cs:line 31\n",
      "   at Submission#30.<<Initialize>>d__0.MoveNext()\n",
      "--- End of stack trace from previous location ---\n",
      "   at Microsoft.CodeAnalysis.Scripting.ScriptExecutionState.RunSubmissionsAsync[TResult](ImmutableArray`1 precedingExecutors, Func`2 currentExecutor, StrongBox`1 exceptionHolderOpt, Func`2 catchExceptionOpt, CancellationToken cancellationToken)"
     ]
    }
   ],
   "source": [
    "var ages = Enumerable.Range(0,(int)df.Rows.Count).Select(x=>Convert.ToDouble(df[\"Age\"][x])).ToArray();\n",
    "var fares = Enumerable.Range(0,(int)df.Rows.Count).Select(x=>Convert.ToDouble(df[\"Fare\"][x])).ToArray();\n",
    "\n",
    "ScottPlot.Plot plt = new();\n",
    "plt.Add.Scatter(ages,fares);\n",
    "plt"
   ]
  }
 ],
 "metadata": {
  "kernelspec": {
   "display_name": ".NET (C#)",
   "language": "C#",
   "name": ".net-csharp"
  },
  "language_info": {
   "name": "polyglot-notebook"
  },
  "polyglot_notebook": {
   "kernelInfo": {
    "defaultKernelName": "csharp",
    "items": [
     {
      "aliases": [],
      "languageName": "csharp",
      "name": "csharp"
     }
    ]
   }
  }
 },
 "nbformat": 4,
 "nbformat_minor": 2
}
